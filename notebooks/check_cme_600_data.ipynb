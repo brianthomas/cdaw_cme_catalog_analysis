{
 "cells": [
  {
   "cell_type": "code",
   "execution_count": 1,
   "id": "f7081315-9934-426f-8270-e047332d7225",
   "metadata": {},
   "outputs": [],
   "source": [
    "import pandas as pd"
   ]
  },
  {
   "cell_type": "code",
   "execution_count": 2,
   "id": "7abe8829-5300-449a-b3e7-60a87bfd9ff6",
   "metadata": {},
   "outputs": [],
   "source": [
    "pos_dataset_name = \"../C2_positive_training_dataset.csv\"\n",
    "neg_dataset_name = \"../C2_negative_training_dataset.csv\""
   ]
  },
  {
   "cell_type": "code",
   "execution_count": 3,
   "id": "a4482956-9643-486b-ad6e-360d1b305723",
   "metadata": {},
   "outputs": [],
   "source": [
    "def datetime_to_filename(datetime_str:str):\n",
    "    from datetime import datetime\n",
    "    \n",
    "    dt = datetime.strptime(datetime_str, '%Y-%m-%d %H:%M:%S')\n",
    "    \n",
    "    fn = dt.strftime(\"%Y%m%d%H%M%S\") + \".png\"\n",
    "    return fn\n"
   ]
  },
  {
   "cell_type": "code",
   "execution_count": 4,
   "id": "fa3b9835-5196-4779-898b-4e6c6b7e6d4c",
   "metadata": {},
   "outputs": [],
   "source": [
    "def build_filenames_from_datetime(cat_data:pd.DataFrame)->list:\n",
    "    names = []\n",
    "    for idx in cat_data.index:\n",
    "        names.append(datetime_to_filename(cat_data['datetime'][idx]))\n",
    "    return names"
   ]
  },
  {
   "cell_type": "code",
   "execution_count": 5,
   "id": "84211066-8743-416c-9399-473191ae4536",
   "metadata": {},
   "outputs": [],
   "source": [
    "def compare_times_to_actual(catalog_data:pd.DataFrame, actual_name:str):\n",
    "    \n",
    "    catalog_names = build_filenames_from_datetime(catalog_data)\n",
    "    \n",
    "    #load file which has the actual filenames produced\n",
    "    with open (actual_name, 'r') as f:\n",
    "        actual_names = f.readlines()\n",
    "        \n",
    "    # compare possible list with actual. Everything in Actual should match\n",
    "\n",
    "    check_set = set(catalog_names)\n",
    "    for fn in actual_names:\n",
    "        chk = fn.strip()\n",
    "        if fn not in check_set:\n",
    "            print (f\"{fn} not found in list of possible\")\n",
    "            break"
   ]
  },
  {
   "cell_type": "code",
   "execution_count": 6,
   "id": "82d6cc1d-8561-4f1f-97af-ac5165e5a210",
   "metadata": {},
   "outputs": [
    {
     "name": "stdout",
     "output_type": "stream",
     "text": [
      "20000315195100.png\n",
      " not found in list of possible\n"
     ]
    }
   ],
   "source": [
    "pos_catalog = pd.read_csv (pos_dataset_name)\n",
    "compare_times_to_actual (pos_catalog, 'cme_max_600_list.txt')\n"
   ]
  },
  {
   "cell_type": "code",
   "execution_count": 7,
   "id": "d26d2415-4660-459c-a570-df8a0727c818",
   "metadata": {},
   "outputs": [
    {
     "data": {
      "text/html": [
       "<div>\n",
       "<style scoped>\n",
       "    .dataframe tbody tr th:only-of-type {\n",
       "        vertical-align: middle;\n",
       "    }\n",
       "\n",
       "    .dataframe tbody tr th {\n",
       "        vertical-align: top;\n",
       "    }\n",
       "\n",
       "    .dataframe thead th {\n",
       "        text-align: right;\n",
       "    }\n",
       "</style>\n",
       "<table border=\"1\" class=\"dataframe\">\n",
       "  <thead>\n",
       "    <tr style=\"text-align: right;\">\n",
       "      <th></th>\n",
       "      <th>CDAW_Id</th>\n",
       "      <th>telescope</th>\n",
       "      <th>date-obs</th>\n",
       "      <th>datetime</th>\n",
       "      <th>filename</th>\n",
       "    </tr>\n",
       "  </thead>\n",
       "  <tbody>\n",
       "    <tr>\n",
       "      <th>14760</th>\n",
       "      <td>2645</td>\n",
       "      <td>C2</td>\n",
       "      <td>2000/03/16</td>\n",
       "      <td>2000-03-16 08:05:58</td>\n",
       "      <td>25063988.fts</td>\n",
       "    </tr>\n",
       "    <tr>\n",
       "      <th>14761</th>\n",
       "      <td>2645</td>\n",
       "      <td>C2</td>\n",
       "      <td>2000/03/16</td>\n",
       "      <td>2000-03-16 08:26:00</td>\n",
       "      <td>25063989.fts</td>\n",
       "    </tr>\n",
       "    <tr>\n",
       "      <th>14762</th>\n",
       "      <td>2645</td>\n",
       "      <td>C2</td>\n",
       "      <td>2000/03/16</td>\n",
       "      <td>2000-03-16 08:50:52</td>\n",
       "      <td>25063990.fts</td>\n",
       "    </tr>\n",
       "    <tr>\n",
       "      <th>14763</th>\n",
       "      <td>2645</td>\n",
       "      <td>C2</td>\n",
       "      <td>2000/03/16</td>\n",
       "      <td>2000-03-16 09:05:54</td>\n",
       "      <td>25063991.fts</td>\n",
       "    </tr>\n",
       "    <tr>\n",
       "      <th>14764</th>\n",
       "      <td>2645</td>\n",
       "      <td>C2</td>\n",
       "      <td>2000/03/16</td>\n",
       "      <td>2000-03-16 09:25:54</td>\n",
       "      <td>25063992.fts</td>\n",
       "    </tr>\n",
       "    <tr>\n",
       "      <th>14765</th>\n",
       "      <td>2645</td>\n",
       "      <td>C2</td>\n",
       "      <td>2000/03/16</td>\n",
       "      <td>2000-03-16 09:50:51</td>\n",
       "      <td>25063993.fts</td>\n",
       "    </tr>\n",
       "    <tr>\n",
       "      <th>14766</th>\n",
       "      <td>2645</td>\n",
       "      <td>C2</td>\n",
       "      <td>2000/03/16</td>\n",
       "      <td>2000-03-16 10:05:54</td>\n",
       "      <td>25063994.fts</td>\n",
       "    </tr>\n",
       "    <tr>\n",
       "      <th>14767</th>\n",
       "      <td>2645</td>\n",
       "      <td>C2</td>\n",
       "      <td>2000/03/16</td>\n",
       "      <td>2000-03-16 10:25:55</td>\n",
       "      <td>25063995.fts</td>\n",
       "    </tr>\n",
       "    <tr>\n",
       "      <th>14768</th>\n",
       "      <td>2645</td>\n",
       "      <td>C2</td>\n",
       "      <td>2000/03/16</td>\n",
       "      <td>2000-03-16 10:50:53</td>\n",
       "      <td>25063996.fts</td>\n",
       "    </tr>\n",
       "    <tr>\n",
       "      <th>14769</th>\n",
       "      <td>2645</td>\n",
       "      <td>C2</td>\n",
       "      <td>2000/03/16</td>\n",
       "      <td>2000-03-16 11:05:54</td>\n",
       "      <td>25063997.fts</td>\n",
       "    </tr>\n",
       "  </tbody>\n",
       "</table>\n",
       "</div>"
      ],
      "text/plain": [
       "       CDAW_Id telescope    date-obs             datetime      filename\n",
       "14760     2645        C2  2000/03/16  2000-03-16 08:05:58  25063988.fts\n",
       "14761     2645        C2  2000/03/16  2000-03-16 08:26:00  25063989.fts\n",
       "14762     2645        C2  2000/03/16  2000-03-16 08:50:52  25063990.fts\n",
       "14763     2645        C2  2000/03/16  2000-03-16 09:05:54  25063991.fts\n",
       "14764     2645        C2  2000/03/16  2000-03-16 09:25:54  25063992.fts\n",
       "14765     2645        C2  2000/03/16  2000-03-16 09:50:51  25063993.fts\n",
       "14766     2645        C2  2000/03/16  2000-03-16 10:05:54  25063994.fts\n",
       "14767     2645        C2  2000/03/16  2000-03-16 10:25:55  25063995.fts\n",
       "14768     2645        C2  2000/03/16  2000-03-16 10:50:53  25063996.fts\n",
       "14769     2645        C2  2000/03/16  2000-03-16 11:05:54  25063997.fts"
      ]
     },
     "execution_count": 7,
     "metadata": {},
     "output_type": "execute_result"
    }
   ],
   "source": [
    "filt1 = pos_catalog[pos_catalog['datetime'] > '2000-03-14']\n",
    "filt2 = filt1[filt1['datetime'] < '2000-03-18']\n",
    "filt2"
   ]
  },
  {
   "cell_type": "code",
   "execution_count": 8,
   "id": "6b7ed488-b4ed-4224-97fa-1b6e264d86ce",
   "metadata": {},
   "outputs": [
    {
     "name": "stdout",
     "output_type": "stream",
     "text": [
      "20000703002500.png\n",
      " not found in list of possible\n"
     ]
    }
   ],
   "source": [
    "neg_catalog = pd.read_csv (neg_dataset_name)\n",
    "compare_times_to_actual (neg_catalog, 'noncme_max_600_list.txt')\n"
   ]
  },
  {
   "cell_type": "code",
   "execution_count": 9,
   "id": "3e5983be-6387-42b6-b71f-7f3cc9eec1a4",
   "metadata": {},
   "outputs": [
    {
     "data": {
      "text/html": [
       "<div>\n",
       "<style scoped>\n",
       "    .dataframe tbody tr th:only-of-type {\n",
       "        vertical-align: middle;\n",
       "    }\n",
       "\n",
       "    .dataframe tbody tr th {\n",
       "        vertical-align: top;\n",
       "    }\n",
       "\n",
       "    .dataframe thead th {\n",
       "        text-align: right;\n",
       "    }\n",
       "</style>\n",
       "<table border=\"1\" class=\"dataframe\">\n",
       "  <thead>\n",
       "    <tr style=\"text-align: right;\">\n",
       "      <th></th>\n",
       "      <th>datetime</th>\n",
       "      <th>date-obs</th>\n",
       "      <th>telescope</th>\n",
       "      <th>filename</th>\n",
       "    </tr>\n",
       "  </thead>\n",
       "  <tbody>\n",
       "    <tr>\n",
       "      <th>8170</th>\n",
       "      <td>2000-07-03 00:05:54</td>\n",
       "      <td>2000/07/03</td>\n",
       "      <td>C2</td>\n",
       "      <td>25071723.fts</td>\n",
       "    </tr>\n",
       "    <tr>\n",
       "      <th>8171</th>\n",
       "      <td>2000-07-03 00:25:46</td>\n",
       "      <td>2000/07/03</td>\n",
       "      <td>C2</td>\n",
       "      <td>25071724.fts</td>\n",
       "    </tr>\n",
       "    <tr>\n",
       "      <th>8172</th>\n",
       "      <td>2000-07-03 00:49:55</td>\n",
       "      <td>2000/07/03</td>\n",
       "      <td>C2</td>\n",
       "      <td>25071725.fts</td>\n",
       "    </tr>\n",
       "    <tr>\n",
       "      <th>8173</th>\n",
       "      <td>2000-07-03 01:27:11</td>\n",
       "      <td>2000/07/03</td>\n",
       "      <td>C2</td>\n",
       "      <td>25071726.fts</td>\n",
       "    </tr>\n",
       "    <tr>\n",
       "      <th>8174</th>\n",
       "      <td>2000-07-03 01:49:48</td>\n",
       "      <td>2000/07/03</td>\n",
       "      <td>C2</td>\n",
       "      <td>25071727.fts</td>\n",
       "    </tr>\n",
       "    <tr>\n",
       "      <th>8175</th>\n",
       "      <td>2000-07-03 02:05:52</td>\n",
       "      <td>2000/07/03</td>\n",
       "      <td>C2</td>\n",
       "      <td>25071728.fts</td>\n",
       "    </tr>\n",
       "    <tr>\n",
       "      <th>8176</th>\n",
       "      <td>2000-07-03 02:25:45</td>\n",
       "      <td>2000/07/03</td>\n",
       "      <td>C2</td>\n",
       "      <td>25071729.fts</td>\n",
       "    </tr>\n",
       "    <tr>\n",
       "      <th>8177</th>\n",
       "      <td>2000-07-03 02:49:57</td>\n",
       "      <td>2000/07/03</td>\n",
       "      <td>C2</td>\n",
       "      <td>25071730.fts</td>\n",
       "    </tr>\n",
       "    <tr>\n",
       "      <th>8178</th>\n",
       "      <td>2000-07-03 03:05:49</td>\n",
       "      <td>2000/07/03</td>\n",
       "      <td>C2</td>\n",
       "      <td>25071731.fts</td>\n",
       "    </tr>\n",
       "    <tr>\n",
       "      <th>8179</th>\n",
       "      <td>2000-07-03 03:25:53</td>\n",
       "      <td>2000/07/03</td>\n",
       "      <td>C2</td>\n",
       "      <td>25071732.fts</td>\n",
       "    </tr>\n",
       "  </tbody>\n",
       "</table>\n",
       "</div>"
      ],
      "text/plain": [
       "                 datetime    date-obs telescope      filename\n",
       "8170  2000-07-03 00:05:54  2000/07/03        C2  25071723.fts\n",
       "8171  2000-07-03 00:25:46  2000/07/03        C2  25071724.fts\n",
       "8172  2000-07-03 00:49:55  2000/07/03        C2  25071725.fts\n",
       "8173  2000-07-03 01:27:11  2000/07/03        C2  25071726.fts\n",
       "8174  2000-07-03 01:49:48  2000/07/03        C2  25071727.fts\n",
       "8175  2000-07-03 02:05:52  2000/07/03        C2  25071728.fts\n",
       "8176  2000-07-03 02:25:45  2000/07/03        C2  25071729.fts\n",
       "8177  2000-07-03 02:49:57  2000/07/03        C2  25071730.fts\n",
       "8178  2000-07-03 03:05:49  2000/07/03        C2  25071731.fts\n",
       "8179  2000-07-03 03:25:53  2000/07/03        C2  25071732.fts"
      ]
     },
     "execution_count": 9,
     "metadata": {},
     "output_type": "execute_result"
    }
   ],
   "source": [
    "filt1 = neg_catalog[neg_catalog['datetime'] > '2000-07-02']\n",
    "filt2 = filt1[filt1['datetime'] < '2000-07-04']\n",
    "filt2[:10]"
   ]
  },
  {
   "cell_type": "markdown",
   "id": "2332640c-e48b-4763-b38b-2671ac1a55bc",
   "metadata": {
    "tags": []
   },
   "source": [
    "# retrieve actual fits files from : https://lasco-www.nrl.navy.mil/lz/level_1/000703/c2/ "
   ]
  },
  {
   "cell_type": "code",
   "execution_count": 10,
   "id": "df9fa4e3-aa73-481a-b13a-e40bc61cad74",
   "metadata": {},
   "outputs": [],
   "source": [
    "# from the file 2571723.fts:\n",
    "# DATE-OBS : '2000-07-03T00:05:54.320'\n",
    "\n",
    "# from the file 2571724.fts:\n",
    "# DATE_OBS= '2000-07-03T00:25:46.928'"
   ]
  },
  {
   "cell_type": "code",
   "execution_count": null,
   "id": "085e86df-b0cf-43a6-ad04-bff0b391b4e3",
   "metadata": {},
   "outputs": [],
   "source": []
  },
  {
   "cell_type": "code",
   "execution_count": null,
   "id": "7712e784-6437-4f86-83d0-fc0d2b5cf54c",
   "metadata": {},
   "outputs": [],
   "source": []
  }
 ],
 "metadata": {
  "kernelspec": {
   "display_name": "Python 3 (ipykernel)",
   "language": "python",
   "name": "python3"
  },
  "language_info": {
   "codemirror_mode": {
    "name": "ipython",
    "version": 3
   },
   "file_extension": ".py",
   "mimetype": "text/x-python",
   "name": "python",
   "nbconvert_exporter": "python",
   "pygments_lexer": "ipython3",
   "version": "3.9.10"
  }
 },
 "nbformat": 4,
 "nbformat_minor": 5
}
