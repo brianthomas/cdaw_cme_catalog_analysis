{
 "cells": [
  {
   "cell_type": "markdown",
   "metadata": {},
   "source": [
    "# Extract various interesting CME times from \n",
    "# COR2 (Stereo) Catalog (Angelos Vourlidas etal, 2017+) of CME\n",
    "\n",
    "Then compare with the LASCO C2 catalog times to get catalog of images we want to use; they wont match 100% as COR2 is for Stereo A/B which have differnt orbit/viewing of Sun (generally) than SOHO. We'll need to take into account the \"solar longitude\" to make sure that the CME is one which SOHO could have observed (from L2 Halo orbit on Sun-Earth line)."
   ]
  },
  {
   "cell_type": "code",
   "execution_count": 1,
   "metadata": {},
   "outputs": [],
   "source": [
    "import pandas as pd\n",
    "\n",
    "Need_To_Redownload = False\n",
    "\n",
    "# path to the CSV files (by year) which contain COR2 catalog\n",
    "COR2_data_path = '../COR2_catalog_20170927'\n",
    "\n",
    "# name of the LASCO catalog\n",
    "LASCO_Catalog_Filename = '../lasco_img_catalog_lvl_1.txt'\n",
    "\n",
    "CME_Catalog_Filename = '../cme_event_catalog.txt'"
   ]
  },
  {
   "cell_type": "code",
   "execution_count": 3,
   "metadata": {},
   "outputs": [
    {
     "ename": "FileNotFoundError",
     "evalue": "[Errno 2] No such file or directory: '../COR2_catalog_20170927'",
     "output_type": "error",
     "traceback": [
      "\u001b[0;31m---------------------------------------------------------------------------\u001b[0m",
      "\u001b[0;31mFileNotFoundError\u001b[0m                         Traceback (most recent call last)",
      "Input \u001b[0;32mIn [3]\u001b[0m, in \u001b[0;36m<module>\u001b[0;34m\u001b[0m\n\u001b[1;32m      4\u001b[0m \u001b[38;5;28;01mfrom\u001b[39;00m \u001b[38;5;21;01mos\u001b[39;00m \u001b[38;5;28;01mimport\u001b[39;00m listdir\n\u001b[1;32m      5\u001b[0m \u001b[38;5;28;01mfrom\u001b[39;00m \u001b[38;5;21;01mos\u001b[39;00m\u001b[38;5;21;01m.\u001b[39;00m\u001b[38;5;21;01mpath\u001b[39;00m \u001b[38;5;28;01mimport\u001b[39;00m isfile, join\n\u001b[0;32m----> 7\u001b[0m files \u001b[38;5;241m=\u001b[39m [f \u001b[38;5;28;01mfor\u001b[39;00m f \u001b[38;5;129;01min\u001b[39;00m \u001b[43mlistdir\u001b[49m\u001b[43m(\u001b[49m\u001b[43mCOR2_data_path\u001b[49m\u001b[43m)\u001b[49m \u001b[38;5;28;01mif\u001b[39;00m isfile(join(data_path, f))]\n\u001b[1;32m     10\u001b[0m df \u001b[38;5;241m=\u001b[39m pd\u001b[38;5;241m.\u001b[39mread_csv(join(data_path, files[\u001b[38;5;241m0\u001b[39m]))\n\u001b[1;32m     11\u001b[0m foo \u001b[38;5;241m=\u001b[39m df[df\u001b[38;5;241m.\u001b[39mComments\u001b[38;5;241m.\u001b[39mstr\u001b[38;5;241m.\u001b[39mcontains(\u001b[38;5;124m'\u001b[39m\u001b[38;5;124mSB\u001b[39m\u001b[38;5;124m'\u001b[39m) \u001b[38;5;241m==\u001b[39m \u001b[38;5;28;01mTrue\u001b[39;00m]\n",
      "\u001b[0;31mFileNotFoundError\u001b[0m: [Errno 2] No such file or directory: '../COR2_catalog_20170927'"
     ]
    }
   ],
   "source": [
    "\n",
    "\n",
    "# find all files in COR2 directory\n",
    "# and load into memory\n",
    "\n",
    "from os import listdir\n",
    "from os.path import isfile, join\n",
    "\n",
    "files = [f for f in listdir(COR2_data_path) if isfile(join(data_path, f))]\n",
    "\n",
    "\n",
    "df = pd.read_csv(join(data_path, files[0]))\n",
    "foo = df[df.Comments.str.contains('SB') == True]\n",
    "foo\n"
   ]
  },
  {
   "cell_type": "code",
   "execution_count": null,
   "metadata": {},
   "outputs": [],
   "source": [
    "# pull the cme catalog to local disk\n",
    "if Need_To_Redownload:\n",
    "    import requests\n",
    "    \n",
    "    # download LASCO catalog now\n",
    "    #lasco_hdr_url = 'https://lasco-www.nrl.navy.mil/lz/img_hdr.txt'   # level 0.5 data\n",
    "    lasco_hdr_url = 'https://lasco-www.nrl.navy.mil/lz/level_1/img_hdr.txt'\n",
    "    response = requests.get(lasco_hdr_url, allow_redirects=True)\n",
    "    \n",
    "    # cache locally\n",
    "    open(LASCO_Catalog_Filename, 'wb').write(response.content)\n",
    "    \n",
    "\n",
    "# load data from LASCO img catalog\n",
    "lasco_catalog = pd.read_fwf(LASCO_Catalog_Filename, index=False,\n",
    "                            names=['filename', 'date-obs', 'time-obs','telescope', 'expTime',\n",
    "                                   'NumCols', 'NumRows', 'StartCol', 'StartRow', 'Filter', \n",
    "                                   'Polarizer','Observ.Seq', 'LEB Program', 'junk'])\n",
    "\n",
    "lasco_catalog\n",
    "c2_catalog = lasco_catalog[lasco_catalog['telescope'] == 'C2']\n",
    "#c2_catalog"
   ]
  },
  {
   "cell_type": "code",
   "execution_count": null,
   "metadata": {},
   "outputs": [],
   "source": [
    "slice1 = c2_catalog[c2_catalog['date-obs']=='2014/01/09']\n",
    "slice1 = slice1[slice1['time-obs'].str.contains(':37:') == True]\n",
    "slice1"
   ]
  },
  {
   "cell_type": "code",
   "execution_count": null,
   "metadata": {},
   "outputs": [],
   "source": [
    "cdaw_data = pd.read_csv(CME_Catalog_Filename)\n",
    "cdaw_data = cme_data.rename(columns={'Unnamed: 0':'CDAW_Id'})\n",
    "cdaw_data"
   ]
  },
  {
   "cell_type": "code",
   "execution_count": null,
   "metadata": {},
   "outputs": [],
   "source": [
    "test = cdaw_data[cdaw_data['Date'] == '2014/01/09']\n",
    "#test = test[test['Time'].str.contains(':37:') == True]\n",
    "test"
   ]
  },
  {
   "cell_type": "code",
   "execution_count": null,
   "metadata": {},
   "outputs": [],
   "source": []
  }
 ],
 "metadata": {
  "kernelspec": {
   "display_name": "Python 3 (ipykernel)",
   "language": "python",
   "name": "python3"
  },
  "language_info": {
   "codemirror_mode": {
    "name": "ipython",
    "version": 3
   },
   "file_extension": ".py",
   "mimetype": "text/x-python",
   "name": "python",
   "nbconvert_exporter": "python",
   "pygments_lexer": "ipython3",
   "version": "3.9.10"
  }
 },
 "nbformat": 4,
 "nbformat_minor": 4
}
