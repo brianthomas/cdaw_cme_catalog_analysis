{
 "cells": [
  {
   "cell_type": "markdown",
   "metadata": {},
   "source": [
    "# CDAW CME Catalog Analysis Notebook - Properties\n",
    "This notebook is for analyzing current CDAW CME catalog to look for differences in CMEs.\n",
    "\n",
    "Want to understand estimated properties of CME events and build a histogram/plots of this \n",
    "data."
   ]
  },
  {
   "cell_type": "code",
   "execution_count": 1,
   "metadata": {},
   "outputs": [],
   "source": [
    "import requests\n",
    "import pandas as pd\n",
    "\n",
    "Need_To_Redownload = False\n",
    "CME_Catalog_Filename = '../cme_event_catalog.csv'"
   ]
  },
  {
   "cell_type": "code",
   "execution_count": 2,
   "metadata": {},
   "outputs": [],
   "source": [
    "import numpy as np\n",
    "import matplotlib.pyplot as plt\n",
    "    \n",
    "def plot_data (xdata, ydata, xlabel=\"\", ylabel=\"\", title=\"\", alpha=1.0, ylog:bool=False, xlog:bool=False):\n",
    "\n",
    "    fig, ax = plt.subplots()\n",
    "    #plt.style.use('fivethirtyeight')\n",
    "    \n",
    "    ax.plot(xdata, ydata, 'ro', alpha=alpha)\n",
    "    ax.set_title(title)\n",
    "    ax.set(xlabel=xlabel, ylabel=ylabel)\n",
    "    \n",
    "    if ylog:\n",
    "        ax.set_yscale('log')\n",
    "\n",
    "    if xlog:\n",
    "        ax.set_xscale('log')\n",
    "    \n",
    "    \n",
    "def plot_hist(data, what, nbins:int=100, ylog:bool=False, xlog:bool=False, xlow:int=0, xhigh:int=None, nofill:bool=False):\n",
    "    \n",
    "    fig, ax = plt.subplots()\n",
    "        \n",
    "    if nofill:\n",
    "        data.hist(ax=ax, bins=nbins, bottom=0, fill=None)\n",
    "    else:\n",
    "        data.hist(ax=ax, bins=nbins, bottom=0)\n",
    "    ax.set_title(\"Histogram\")\n",
    "    ax.set(xlabel=what, ylabel=\"Num/bin\")\n",
    "    \n",
    "    if xlow != None and xhigh != None:\n",
    "        plt.xlim(xlow, xhigh)\n",
    "    \n",
    "    #plt.style.use('fivethirtyeight')\n",
    "    if ylog:\n",
    "        ax.set_yscale('log')\n",
    "        \n",
    "    if xlog:\n",
    "        ax.set_xscale('log')"
   ]
  },
  {
   "cell_type": "code",
   "execution_count": 3,
   "metadata": {},
   "outputs": [
    {
     "data": {
      "text/plain": [
       "7618"
      ]
     },
     "execution_count": 3,
     "metadata": {},
     "output_type": "execute_result"
    }
   ],
   "source": [
    "# load dataset\n",
    "c2_c3_data = pd.read_csv(CME_Catalog_Filename)\n",
    "len(c2_c3_data)"
   ]
  },
  {
   "cell_type": "code",
   "execution_count": 5,
   "metadata": {},
   "outputs": [],
   "source": [
    "# add datetime column\n",
    "\n",
    "from datetime import datetime, date, time, timezone, timedelta\n",
    "\n",
    "def get_datetime(data:pd.DataFrame, date_col:str='date-obs', time_col:str='time-obs')->list:\n",
    "    # add column of python datetime for easier handling\n",
    "    datetime_col = []\n",
    "    for row in data.iterrows():\n",
    "        date_obs = row[1][date_col]\n",
    "        time_obs = row[1][time_col]\n",
    "\n",
    "        date_obs = [int(t) for t in row[1][date_col].split('/')]\n",
    "        time_obs = [int(t) for t in row[1][time_col].split(':')]\n",
    "\n",
    "        datetime_col.append(datetime(year=date_obs[0], month=date_obs[1], day=date_obs[2], hour=time_obs[0], minute=time_obs[1], second=time_obs[2]))\n",
    "\n",
    "    return datetime_col\n",
    "    \n",
    "c2_c3_data['datetime'] = get_datetime(c2_c3_data, 'Date', 'Time')\n",
    "c2_c3_data.index = c2_c3_data.datetime"
   ]
  },
  {
   "cell_type": "code",
   "execution_count": 6,
   "metadata": {},
   "outputs": [
    {
     "data": {
      "text/html": [
       "<div>\n",
       "<style scoped>\n",
       "    .dataframe tbody tr th:only-of-type {\n",
       "        vertical-align: middle;\n",
       "    }\n",
       "\n",
       "    .dataframe tbody tr th {\n",
       "        vertical-align: top;\n",
       "    }\n",
       "\n",
       "    .dataframe thead th {\n",
       "        text-align: right;\n",
       "    }\n",
       "</style>\n",
       "<table border=\"1\" class=\"dataframe\">\n",
       "  <thead>\n",
       "    <tr style=\"text-align: right;\">\n",
       "      <th></th>\n",
       "      <th>Date</th>\n",
       "      <th>Time</th>\n",
       "      <th>Central</th>\n",
       "      <th>Width</th>\n",
       "      <th>Linear</th>\n",
       "      <th>2nd</th>\n",
       "      <th>order</th>\n",
       "      <th>speed</th>\n",
       "      <th>Accel</th>\n",
       "      <th>Mass</th>\n",
       "      <th>...</th>\n",
       "      <th>Duration_C2</th>\n",
       "      <th>Duration_C3</th>\n",
       "      <th>StartTime_C3_Delta</th>\n",
       "      <th>width</th>\n",
       "      <th>linear</th>\n",
       "      <th>mpa</th>\n",
       "      <th>mass</th>\n",
       "      <th>kinetic</th>\n",
       "      <th>accel</th>\n",
       "      <th>datetime</th>\n",
       "    </tr>\n",
       "    <tr>\n",
       "      <th>datetime</th>\n",
       "      <th></th>\n",
       "      <th></th>\n",
       "      <th></th>\n",
       "      <th></th>\n",
       "      <th></th>\n",
       "      <th></th>\n",
       "      <th></th>\n",
       "      <th></th>\n",
       "      <th></th>\n",
       "      <th></th>\n",
       "      <th></th>\n",
       "      <th></th>\n",
       "      <th></th>\n",
       "      <th></th>\n",
       "      <th></th>\n",
       "      <th></th>\n",
       "      <th></th>\n",
       "      <th></th>\n",
       "      <th></th>\n",
       "      <th></th>\n",
       "      <th></th>\n",
       "    </tr>\n",
       "  </thead>\n",
       "  <tbody>\n",
       "    <tr>\n",
       "      <th>1996-01-31 06:52:13</th>\n",
       "      <td>1996/01/31</td>\n",
       "      <td>06:52:13</td>\n",
       "      <td>274</td>\n",
       "      <td>47</td>\n",
       "      <td>158</td>\n",
       "      <td>219</td>\n",
       "      <td>99</td>\n",
       "      <td>0</td>\n",
       "      <td>-12.3*</td>\n",
       "      <td>2.5e+14*</td>\n",
       "      <td>...</td>\n",
       "      <td>26582.278481</td>\n",
       "      <td>116518.987342</td>\n",
       "      <td>9746.835443</td>\n",
       "      <td>47</td>\n",
       "      <td>158</td>\n",
       "      <td>272</td>\n",
       "      <td>2.500000e+14</td>\n",
       "      <td>3.200000e+28</td>\n",
       "      <td>-12.3</td>\n",
       "      <td>1996-01-31 06:52:13</td>\n",
       "    </tr>\n",
       "    <tr>\n",
       "      <th>1996-02-12 05:47:26</th>\n",
       "      <td>1996/02/12</td>\n",
       "      <td>05:47:26</td>\n",
       "      <td>91</td>\n",
       "      <td>53</td>\n",
       "      <td>160</td>\n",
       "      <td>100</td>\n",
       "      <td>211</td>\n",
       "      <td>236</td>\n",
       "      <td>2.0*</td>\n",
       "      <td>1.3e+15</td>\n",
       "      <td>...</td>\n",
       "      <td>26250.000000</td>\n",
       "      <td>115062.500000</td>\n",
       "      <td>9625.000000</td>\n",
       "      <td>53</td>\n",
       "      <td>160</td>\n",
       "      <td>92</td>\n",
       "      <td>1.300000e+15</td>\n",
       "      <td>1.600000e+29</td>\n",
       "      <td>2.0</td>\n",
       "      <td>1996-02-12 05:47:26</td>\n",
       "    </tr>\n",
       "    <tr>\n",
       "      <th>1996-03-02 04:11:53</th>\n",
       "      <td>1996/03/02</td>\n",
       "      <td>04:11:53</td>\n",
       "      <td>88</td>\n",
       "      <td>36</td>\n",
       "      <td>108</td>\n",
       "      <td>95</td>\n",
       "      <td>120</td>\n",
       "      <td>177</td>\n",
       "      <td>1.0*</td>\n",
       "      <td>1.5e+14</td>\n",
       "      <td>...</td>\n",
       "      <td>38888.888889</td>\n",
       "      <td>170462.962963</td>\n",
       "      <td>14259.259259</td>\n",
       "      <td>36</td>\n",
       "      <td>108</td>\n",
       "      <td>86</td>\n",
       "      <td>1.500000e+14</td>\n",
       "      <td>8.700000e+27</td>\n",
       "      <td>1.0</td>\n",
       "      <td>1996-03-02 04:11:53</td>\n",
       "    </tr>\n",
       "  </tbody>\n",
       "</table>\n",
       "<p>3 rows × 23 columns</p>\n",
       "</div>"
      ],
      "text/plain": [
       "                           Date      Time Central  Width  Linear  2nd order  \\\n",
       "datetime                                                                      \n",
       "1996-01-31 06:52:13  1996/01/31  06:52:13     274     47     158  219    99   \n",
       "1996-02-12 05:47:26  1996/02/12  05:47:26      91     53     160  100   211   \n",
       "1996-03-02 04:11:53  1996/03/02  04:11:53      88     36     108   95   120   \n",
       "\n",
       "                    speed   Accel      Mass  ...   Duration_C2    Duration_C3  \\\n",
       "datetime                                     ...                                \n",
       "1996-01-31 06:52:13     0  -12.3*  2.5e+14*  ...  26582.278481  116518.987342   \n",
       "1996-02-12 05:47:26   236    2.0*   1.3e+15  ...  26250.000000  115062.500000   \n",
       "1996-03-02 04:11:53   177    1.0*   1.5e+14  ...  38888.888889  170462.962963   \n",
       "\n",
       "                    StartTime_C3_Delta  width  linear  mpa          mass  \\\n",
       "datetime                                                                   \n",
       "1996-01-31 06:52:13        9746.835443     47     158  272  2.500000e+14   \n",
       "1996-02-12 05:47:26        9625.000000     53     160   92  1.300000e+15   \n",
       "1996-03-02 04:11:53       14259.259259     36     108   86  1.500000e+14   \n",
       "\n",
       "                          kinetic  accel            datetime  \n",
       "datetime                                                      \n",
       "1996-01-31 06:52:13  3.200000e+28  -12.3 1996-01-31 06:52:13  \n",
       "1996-02-12 05:47:26  1.600000e+29    2.0 1996-02-12 05:47:26  \n",
       "1996-03-02 04:11:53  8.700000e+27    1.0 1996-03-02 04:11:53  \n",
       "\n",
       "[3 rows x 23 columns]"
      ]
     },
     "execution_count": 6,
     "metadata": {},
     "output_type": "execute_result"
    }
   ],
   "source": [
    "c2_c3_data[:3]"
   ]
  },
  {
   "cell_type": "code",
   "execution_count": 7,
   "metadata": {},
   "outputs": [
    {
     "data": {
      "image/png": "[encoded data removed]",
      "text/plain": [
       "<Figure size 432x288 with 1 Axes>"
      ]
     },
     "metadata": {
      "needs_background": "light"
     },
     "output_type": "display_data"
    }
   ],
   "source": [
    "plot_hist(c2_c3_data['Central'], nbins=50, what='Central Angle', ylog=False, xhigh=359)"
   ]
  },
  {
   "cell_type": "code",
   "execution_count": 8,
   "metadata": {},
   "outputs": [
    {
     "name": "stderr",
     "output_type": "stream",
     "text": [
      "<ipython-input-8-606ae0a13224>:3: RuntimeWarning: divide by zero encountered in log10\n",
      "  c2_c3_data['lmass'] = [np.log10(i) for i in c2_c3_data['nmass']]\n"
     ]
    },
    {
     "data": {
      "image/png": "[encoded data removed]",
      "text/plain": [
       "<Figure size 432x288 with 1 Axes>"
      ]
     },
     "metadata": {
      "needs_background": "light"
     },
     "output_type": "display_data"
    },
    {
     "data": {
      "image/png": "[encoded data removed]",
      "text/plain": [
       "<Figure size 432x288 with 1 Axes>"
      ]
     },
     "metadata": {
      "needs_background": "light"
     },
     "output_type": "display_data"
    }
   ],
   "source": [
    "plot_hist(pd.to_numeric(c2_c3_data['Width']), nbins=50, what='CME width', ylog=False, xhigh=359)\n",
    "c2_c3_data['nmass'] = pd.to_numeric([i.replace('*', '').replace('-','0') for i in c2_c3_data['Mass']])\n",
    "c2_c3_data['lmass'] = [np.log10(i) for i in c2_c3_data['nmass']]\n",
    "trimmed = c2_c3_data[c2_c3_data['lmass'] > 10.]\n",
    "trimmed = trimmed[trimmed['datetime'] < '2006-01-01']\n",
    "plot_hist(trimmed['lmass'], nbins=50, what='CME mass', ylog=True, xlog=False)"
   ]
  },
  {
   "cell_type": "code",
   "execution_count": 13,
   "metadata": {},
   "outputs": [
    {
     "data": {
      "image/png": "[encoded data removed]",
      "text/plain": [
       "<Figure size 432x288 with 1 Axes>"
      ]
     },
     "metadata": {
      "needs_background": "light"
     },
     "output_type": "display_data"
    }
   ],
   "source": [
    "# try to reconstruct the histogram on widths (fig 10, found in gopalswami etal 2009;\n",
    "#    https://link.springer.com/article/10.1007/s11038-008-9282-7)\n",
    "# which does NOT show the bump\n",
    "pre_2007 = c2_c3_data[c2_c3_data['datetime'] < '2007-01-01']\n",
    "plot_hist(pd.to_numeric(pre_2007['Width']), nbins=50, what='CME width', ylog=False, xhigh=359)"
   ]
  },
  {
   "cell_type": "code",
   "execution_count": 15,
   "metadata": {},
   "outputs": [
    {
     "data": {
      "text/plain": [
       "2749"
      ]
     },
     "execution_count": 15,
     "metadata": {},
     "output_type": "execute_result"
    }
   ],
   "source": [
    "# the gopalswami paper above references ~9000 CMEs between 1996 to 2007, we should have similar number!\n",
    "# but we dont (the filtered CDAW catalog we have is less than this number; \n",
    "# Why? is it because we excluded poor events earlier, and if they were included would it then match??)\n",
    "len(pre_2007)"
   ]
  },
  {
   "cell_type": "code",
   "execution_count": null,
   "metadata": {},
   "outputs": [],
   "source": [
    "plot_data(pd.to_numeric(c2_c3_data['Width']), pd.to_numeric(c2_c3_data['Linear']), xlabel='CME width', ylabel='Linear', title=\"CDAW\", alpha=0.05)"
   ]
  },
  {
   "cell_type": "code",
   "execution_count": null,
   "metadata": {},
   "outputs": [],
   "source": [
    "plot_data(pd.to_numeric(c2_c3_data['Width']), pd.to_numeric(c2_c3_data['Duration_C2']), xlabel='CME width', ylabel='C2 Duration', title=\"CDAW\", alpha=0.01)"
   ]
  },
  {
   "cell_type": "code",
   "execution_count": null,
   "metadata": {},
   "outputs": [],
   "source": [
    "n = 1000 # len(c2_c3_data)\n",
    "x = pd.to_numeric(c2_c3_data['Width'])\n",
    "y = pd.to_numeric(c2_c3_data['Linear'])\n",
    "plt.hexbin(x,y)\n",
    "plt.xlabel(\"Width\")\n",
    "plt.ylabel(\"Linear\")\n",
    "plt.show()"
   ]
  },
  {
   "cell_type": "code",
   "execution_count": null,
   "metadata": {},
   "outputs": [],
   "source": [
    "n = 100 # len(c2_c3_data)\n",
    "x = pd.to_numeric(c2_c3_data['Width'])\n",
    "y = pd.to_numeric(c2_c3_data['Duration_C2'])\n",
    "plt.hexbin(x,y)\n",
    "plt.xlabel(\"Width\")\n",
    "plt.ylabel(\"Duration C2\")\n",
    "plt.locator_params(axis='y', nbins=10)\n",
    "plt.locator_params(axis='x', nbins=10)\n",
    "#plt.axis.set_xticks(20)\n",
    "plt.show()"
   ]
  },
  {
   "cell_type": "code",
   "execution_count": null,
   "metadata": {
    "scrolled": true
   },
   "outputs": [],
   "source": [
    "c2_c3_data"
   ]
  },
  {
   "cell_type": "code",
   "execution_count": null,
   "metadata": {},
   "outputs": [],
   "source": [
    "# pull out SBO group, 50~<Width~<90 from Vourlidas and Webb 2018\n",
    "sbo_data = c2_c3_data[pd.to_numeric(c2_c3_data['Width']) > 50.]\n",
    "sbo_data = sbo_data[pd.to_numeric(sbo_data['Width']<90.)]\n",
    "sbo_data = c2_c3_data"
   ]
  },
  {
   "cell_type": "code",
   "execution_count": null,
   "metadata": {},
   "outputs": [],
   "source": [
    "# clean up data, make numeric, get rid of asterisk in columns\n",
    "sbo_data['width'] = pd.to_numeric(sbo_data['Width'])\n",
    "#sbo_data['central'] = pd.to_numeric(sbo_data['Central'])\n",
    "sbo_data['linear'] = pd.to_numeric(sbo_data['Linear'])\n",
    "sbo_data['mpa'] = pd.to_numeric(sbo_data['MPA'])\n",
    "#sbo_data['cpa_mpa'] = sbo_data['central'] - sbo_data['mpa']\n",
    "sbo_data['c2_time'] = pd.to_numeric(sbo_data['Duration_C2'])\n",
    "sbo_data['mass'] = pd.to_numeric([i.replace('*', '').replace('-','0') for i in sbo_data['Mass']])\n",
    "sbo_data['kinetic'] = pd.to_numeric([i.replace('*', '').replace('-','0') for i in sbo_data['Kinetic']])\n",
    "sbo_data['accel'] = pd.to_numeric([i.replace('*', '').replace('--', '0') for i in sbo_data['Accel']])\n",
    "sbo_data[['accel', 'Accel', 'mass', 'Mass', 'Central', 'kinetic']]"
   ]
  },
  {
   "cell_type": "code",
   "execution_count": null,
   "metadata": {},
   "outputs": [],
   "source": [
    "# accel\n",
    "plot_hist(pd.to_numeric(sbo_data['accel']), nbins=20, what='accel', ylog=True)\n",
    "plot_data(sbo_data['accel'], sbo_data['kinetic'], ylabel='kinetic', xlabel='accel', title=\"CDAW\", alpha=0.1)\n",
    "plot_data(sbo_data['accel'], sbo_data['mass'], ylabel='mass', xlabel='accel', title=\"CDAW\", alpha=0.1)\n",
    "plot_data(sbo_data['accel'], sbo_data['linear'], xlabel='accel', ylabel='linear speed', title=\"CDAW\", alpha=0.1)"
   ]
  },
  {
   "cell_type": "code",
   "execution_count": null,
   "metadata": {},
   "outputs": [],
   "source": [
    "# kinetic\n",
    "plot_data(sbo_data['kinetic'], sbo_data['linear'], xlabel='kinetic', ylabel='linear speed', title=\"CDAW\", alpha=0.1)\n",
    "plot_data(sbo_data['kinetic'], sbo_data['width'], xlabel='kinetic', ylabel='width', title=\"CDAW\", alpha=0.1)\n",
    "plot_data(sbo_data['kinetic'], 0.5*1000000*10000*sbo_data['linear']*sbo_data['linear']*sbo_data['mass'], xlabel='kinetic', ylabel='calc KE', title=\"\", alpha=0.1)"
   ]
  },
  {
   "cell_type": "code",
   "execution_count": null,
   "metadata": {},
   "outputs": [],
   "source": [
    "# width\n",
    "plot_data(sbo_data['width'], sbo_data['kinetic'], ylabel='kinetic', xlabel='width', title=\"\", alpha=0.01, ylog=True)\n",
    "plot_data(sbo_data['width'], sbo_data['mass'], ylabel='mass', xlabel='width', title=\"\", alpha=0.05, ylog=True)\n",
    "plot_data(sbo_data['width'], abs(sbo_data['accel']), ylabel='abs accel', xlabel='width', title=\"\", alpha=0.01, ylog=True)"
   ]
  },
  {
   "cell_type": "code",
   "execution_count": null,
   "metadata": {},
   "outputs": [],
   "source": [
    "# mass\n",
    "plot_hist(pd.to_numeric(sbo_data['mass']), nbins=20, what='mass', ylog=True)\n",
    "plot_data(sbo_data['mass'], sbo_data['width'], ylabel='width', xlabel='Mass', title=\"CDAW\", alpha=0.1, xlog=True)\n",
    "plot_data(sbo_data['mass'], sbo_data['kinetic'], ylabel='kinetic', xlabel='Mass', title=\"CDAW\", alpha=0.01, ylog=True, xlog=True)\n",
    "plot_data(sbo_data['kinetic'], sbo_data['mass'], ylabel='mass', xlabel='kinetic', title=\"CDAW\", alpha=0.01, ylog=True, xlog=True)\n",
    "plot_data(sbo_data['mass'], sbo_data['accel'], ylabel='accel', xlabel='Mass', title=\"CDAW\", alpha=0.1, xlog=True)"
   ]
  },
  {
   "cell_type": "code",
   "execution_count": null,
   "metadata": {},
   "outputs": [],
   "source": [
    "# cpa-mpa\n",
    "#plot_hist(pd.to_numeric(sbo_data['cpa_mpa']), nbins=20, what='CPA - MPA', ylog=True)\n",
    "#plot_data(sbo_data['kinetic'], sbo_data['cpa_mpa'], xlabel='kinetic', ylabel='CPA-MPA', title=\"CDAW\", alpha=0.1)\n",
    "#plot_data(sbo_data['kinetic'], abs(sbo_data['cpa_mpa']), xlabel='kinetic', ylabel='Abs(CPA-MPA)', title=\"CDAW\", alpha=0.1, ylog=False)"
   ]
  },
  {
   "cell_type": "code",
   "execution_count": null,
   "metadata": {},
   "outputs": [],
   "source": [
    "# C2 Duration\n",
    "plot_hist(sbo_data['c2_time'], nbins=20, what='C2 duration', ylog=True)\n",
    "plot_data(sbo_data['c2_time'], sbo_data['mass'], ylabel='mass', xlabel='C2 time', title=\"CDAW\", alpha=0.1, ylog=True)\n",
    "plot_data(sbo_data['c2_time'], sbo_data['kinetic'], ylabel='kinetic', xlabel='C2 time', title=\"\", alpha=0.1, ylog=True)\n",
    "plot_data(sbo_data['c2_time'], abs(sbo_data['accel']), ylabel='abs(accel)', xlabel='C2 time', title=\"\", alpha=0.1, ylog=True)"
   ]
  },
  {
   "cell_type": "code",
   "execution_count": null,
   "metadata": {},
   "outputs": [],
   "source": [
    "c2_c3_data"
   ]
  },
  {
   "cell_type": "code",
   "execution_count": null,
   "metadata": {},
   "outputs": [],
   "source": [
    "test = c2_c3_data[c2_c3_data['Date'] == '2014/01/10']\n",
    "test"
   ]
  },
  {
   "cell_type": "code",
   "execution_count": null,
   "metadata": {},
   "outputs": [],
   "source": []
  }
 ],
 "metadata": {
  "kernelspec": {
   "display_name": "Python 3",
   "language": "python",
   "name": "python3"
  },
  "language_info": {
   "codemirror_mode": {
    "name": "ipython",
    "version": 3
   },
   "file_extension": ".py",
   "mimetype": "text/x-python",
   "name": "python",
   "nbconvert_exporter": "python",
   "pygments_lexer": "ipython3",
   "version": "3.8.6"
  }
 },
 "nbformat": 4,
 "nbformat_minor": 4
}
