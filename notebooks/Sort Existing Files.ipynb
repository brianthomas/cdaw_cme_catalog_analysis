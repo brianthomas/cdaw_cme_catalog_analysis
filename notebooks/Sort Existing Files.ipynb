{
 "cells": [
  {
   "cell_type": "markdown",
   "id": "a759807f-1306-4862-983b-9089afc6b938",
   "metadata": {
    "tags": []
   },
   "source": [
    "# Sort Existing Files \n",
    "\n",
    "This notebook produces a list of files based on new C2 positive and negative events. This can be used to take existing files in the original '600' dataset, which had some 'event corruption' (cme events in the non-cme/neg directory and viceversa) and re-map them to the appropriate bins."
   ]
  },
  {
   "cell_type": "markdown",
   "id": "cdf1d399-b414-4f57-885c-afc5ee76799c",
   "metadata": {},
   "source": [
    "## Definitions"
   ]
  },
  {
   "cell_type": "code",
   "execution_count": 1,
   "id": "d6236079-80de-4509-a0d4-ee39c09c1553",
   "metadata": {},
   "outputs": [],
   "source": [
    "import pandas as pd\n",
    "\n",
    "pos_dataset_name = \"../C2_positive_training_dataset.csv\"\n",
    "neg_dataset_name = \"../C2_negative_training_dataset.csv\"\n",
    "\n",
    "orig_dataset_name = '../orig_600_files.txt'\n",
    "\n",
    "new_dataset_script = '../create_new_dataset.sh'"
   ]
  },
  {
   "cell_type": "markdown",
   "id": "bcd61180-244a-4ea1-950d-7b8ec9c5ca54",
   "metadata": {},
   "source": [
    "## Load data"
   ]
  },
  {
   "cell_type": "code",
   "execution_count": 2,
   "id": "993dc88c-8bac-41f8-8c41-a69da6ff1415",
   "metadata": {},
   "outputs": [],
   "source": [
    "pos_data = pd.read_csv(pos_dataset_name)\n",
    "neg_data = pd.read_csv(neg_dataset_name)\n",
    "\n",
    "with open (orig_dataset_name, 'r') as f:\n",
    "    orig_files = f.readlines()\n",
    "    \n",
    "# clean: orig filelist newlines removal\n",
    "orig_files = [x.strip() for x in orig_files]"
   ]
  },
  {
   "cell_type": "code",
   "execution_count": 3,
   "id": "5e32b09a-4240-4f4f-bae7-f66c3acf9914",
   "metadata": {
    "tags": []
   },
   "outputs": [
    {
     "data": {
      "text/plain": [
       "['cme/max/20000315195100.png',\n",
       " 'cme/max/20000315215000.png',\n",
       " 'cme/max/20000315222600.png']"
      ]
     },
     "execution_count": 3,
     "metadata": {},
     "output_type": "execute_result"
    }
   ],
   "source": [
    "orig_files[:3]"
   ]
  },
  {
   "cell_type": "markdown",
   "id": "e988baa3-27ea-4d38-a78a-8abcef512f4e",
   "metadata": {},
   "source": [
    "## Build out list of files which belong in cme category"
   ]
  },
  {
   "cell_type": "code",
   "execution_count": 4,
   "id": "c9887cfb-0540-4034-8eb5-6f7ea28b0c63",
   "metadata": {},
   "outputs": [],
   "source": [
    "# map datetimes to files\n",
    "file_exists={}\n",
    "for f in orig_files:\n",
    "    filename = f.split('/')[2]\n",
    "    datetime = filename.split('.')[0]\n",
    "    \n",
    "    file_exists[datetime] = f\n",
    "    "
   ]
  },
  {
   "cell_type": "code",
   "execution_count": 5,
   "id": "d4e9e950-a075-4390-8f0f-010ee225fc45",
   "metadata": {},
   "outputs": [],
   "source": [
    "from datetime import datetime\n",
    "\n",
    "def write_event(evnt, f, file_exists, type=\"cme\"):\n",
    "    \n",
    "    dt = datetime.strptime(evnt, \"%Y-%m-%d %H:%M:%S\") \n",
    "    f_dt = dt.strftime(\"%Y%m%d%H%M00\")\n",
    "    \n",
    "    if f_dt in file_exists:\n",
    "        #print (dt, f_dt)\n",
    "        f.write(f\"cp %s %s\" % (file_exists[f_dt], f\"600_new/{type}/{f_dt}.png\\n\" ))\n",
    "    \n",
    "with open(new_dataset_script, 'w') as f:\n",
    "    \n",
    "    f.write(f\"#!/bin/sh\\n\")\n",
    "    f.write(f\"mkdir -p 600_new/cme/\\n\")\n",
    "    f.write(f\"mkdir -p 600_new/noncme/\\n\")\n",
    " \n",
    "    # do positive events\n",
    "    for evnt in pos_data['datetime']:\n",
    "        write_event(evnt, f, file_exists)\n",
    "            \n",
    "    # do negative events\n",
    "    for evnt in neg_data['datetime']:\n",
    "        write_event(evnt, f, file_exists, \"noncme\")\n"
   ]
  },
  {
   "cell_type": "code",
   "execution_count": null,
   "id": "c6e998a7-5d64-421f-a986-6a9a591a0d00",
   "metadata": {},
   "outputs": [],
   "source": []
  }
 ],
 "metadata": {
  "kernelspec": {
   "display_name": "Python 3 (ipykernel)",
   "language": "python",
   "name": "python3"
  },
  "language_info": {
   "codemirror_mode": {
    "name": "ipython",
    "version": 3
   },
   "file_extension": ".py",
   "mimetype": "text/x-python",
   "name": "python",
   "nbconvert_exporter": "python",
   "pygments_lexer": "ipython3",
   "version": "3.9.10"
  }
 },
 "nbformat": 4,
 "nbformat_minor": 5
}
